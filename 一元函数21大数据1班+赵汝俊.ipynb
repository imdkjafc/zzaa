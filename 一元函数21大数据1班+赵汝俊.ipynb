{
 "cells": [
  {
   "cell_type": "code",
   "execution_count": 2,
   "id": "5f61a10f-8f2e-44b7-917e-4ff9c59c6daa",
   "metadata": {},
   "outputs": [
    {
     "name": "stdout",
     "output_type": "stream",
     "text": [
      "近似全局最小值对应的x值: 0.9999999999999993\n",
      "近似全局最小值: 3.0\n"
     ]
    }
   ],
   "source": [
    "import numpy as np\n",
    "\n",
    "def func(x):\n",
    "    return (x ** 2 - 1) ** 2 + 3\n",
    "\n",
    "def derivative(x):\n",
    "    return 4 * x ** 3 - 4 * x\n",
    "\n",
    "def gradient_descent(learning_rate=0.01, num_iterations=1000):\n",
    "    x = np.random.randn() \n",
    "    for _ in range(num_iterations):\n",
    "        gradient = derivative(x)\n",
    "        x = x - learning_rate * gradient\n",
    "    return x\n",
    "\n",
    "result = gradient_descent()\n",
    "print(\"近似全局最小值对应的x值:\", result)\n",
    "print(\"近似全局最小值:\", func(result))"
   ]
  },
  {
   "cell_type": "code",
   "execution_count": null,
   "id": "0c68f894-1b48-4f3b-a774-fed372626d6a",
   "metadata": {},
   "outputs": [],
   "source": []
  }
 ],
 "metadata": {
  "kernelspec": {
   "display_name": "Python 3 (ipykernel)",
   "language": "python",
   "name": "python3"
  },
  "language_info": {
   "codemirror_mode": {
    "name": "ipython",
    "version": 3
   },
   "file_extension": ".py",
   "mimetype": "text/x-python",
   "name": "python",
   "nbconvert_exporter": "python",
   "pygments_lexer": "ipython3",
   "version": "3.9.7"
  }
 },
 "nbformat": 4,
 "nbformat_minor": 5
}
