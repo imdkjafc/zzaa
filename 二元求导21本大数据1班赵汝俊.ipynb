{
 "cells": [
  {
   "cell_type": "code",
   "execution_count": 1,
   "id": "8ca13d04-48f3-4e34-a4d4-536b7e6df33d",
   "metadata": {},
   "outputs": [
    {
     "data": {
      "text/plain": [
       "tensor([0., 2.])"
      ]
     },
     "execution_count": 1,
     "metadata": {},
     "output_type": "execute_result"
    }
   ],
   "source": [
    "import torch\n",
    "def func(x):\n",
    "    return (x**2).sum()\n",
    "x=torch.tensor([0.0,1.0],requires_grad=True)\n",
    "y=func(x)\n",
    "y.backward()\n",
    "x.grad\n"
   ]
  },
  {
   "cell_type": "code",
   "execution_count": 2,
   "id": "797ed9db-f00d-422f-92ed-0fdd6878102e",
   "metadata": {},
   "outputs": [],
   "source": [
    "import torch\n",
    "x=torch.tensor(0.0,requires_grad=True)\n",
    "y=torch.tensor(1.0,requires_grad=True)\n",
    "z=x**2+y**2\n",
    "z.backward()\n"
   ]
  },
  {
   "cell_type": "code",
   "execution_count": 3,
   "id": "a24472bd-e945-4458-b9a3-b87c95e5ccd6",
   "metadata": {},
   "outputs": [
    {
     "data": {
      "text/plain": [
       "tensor(0.)"
      ]
     },
     "execution_count": 3,
     "metadata": {},
     "output_type": "execute_result"
    }
   ],
   "source": [
    "x.grad"
   ]
  },
  {
   "cell_type": "code",
   "execution_count": 4,
   "id": "aa83f48a-a972-42d4-bfe0-b581159dbbd1",
   "metadata": {},
   "outputs": [
    {
     "data": {
      "text/plain": [
       "tensor(2.)"
      ]
     },
     "execution_count": 4,
     "metadata": {},
     "output_type": "execute_result"
    }
   ],
   "source": [
    "y.grad"
   ]
  },
  {
   "cell_type": "code",
   "execution_count": null,
   "id": "cbaf784a-c256-433e-828f-d4a96a4045f6",
   "metadata": {},
   "outputs": [],
   "source": []
  }
 ],
 "metadata": {
  "kernelspec": {
   "display_name": "Python 3",
   "language": "python",
   "name": "python3"
  },
  "language_info": {
   "codemirror_mode": {
    "name": "ipython",
    "version": 3
   },
   "file_extension": ".py",
   "mimetype": "text/x-python",
   "name": "python",
   "nbconvert_exporter": "python",
   "pygments_lexer": "ipython3",
   "version": "3.8.8"
  }
 },
 "nbformat": 4,
 "nbformat_minor": 5
}
