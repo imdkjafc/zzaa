{
 "cells": [
  {
   "cell_type": "code",
   "execution_count": 1,
   "id": "8ba98af2-a613-4c63-8726-9f2619f1f553",
   "metadata": {},
   "outputs": [],
   "source": [
    "import torch"
   ]
  },
  {
   "cell_type": "code",
   "execution_count": 2,
   "id": "dce35b37-ad24-482e-b885-13f2e2e59ea1",
   "metadata": {},
   "outputs": [
    {
     "name": "stdout",
     "output_type": "stream",
     "text": [
      "Ones Tensor: \n",
      " tensor([[1, 1],\n",
      "        [1, 1]]) \n",
      "\n",
      "Random Tensor: \n",
      " tensor([[0.4125, 0.5520],\n",
      "        [0.8551, 0.1848]]) \n",
      "\n"
     ]
    }
   ],
   "source": [
    "data = [[1,2],[3,4]]\n",
    "x_data = torch.tensor(data)\n",
    "x_data\n",
    "\n",
    "x_ones = torch.ones_like(x_data)\n",
    "print(f\"Ones Tensor: \\n {x_ones} \\n\")\n",
    "\n",
    "x_rand = torch.rand_like(x_data,dtype=torch.float)\n",
    "print(f\"Random Tensor: \\n {x_rand} \\n\")"
   ]
  },
  {
   "cell_type": "code",
   "execution_count": 9,
   "id": "dfcc66d6-c835-4cfe-8e66-a1dcf91b4525",
   "metadata": {},
   "outputs": [
    {
     "name": "stdout",
     "output_type": "stream",
     "text": [
      "<class 'torch.Tensor'>\n"
     ]
    }
   ],
   "source": [
    "from PIL import Image\n",
    "from torchvision import transforms\n",
    "image_path= r'C:\\Users\\admin\\Desktop\\1683621565610736.jpg'\n",
    "image = Image.open(image_path)\n",
    "\n",
    "transform = transforms.ToTensor()\n",
    "tensor_image = transform(image)\n",
    "print(type(tensor_image))"
   ]
  },
  {
   "cell_type": "code",
   "execution_count": 11,
   "id": "465033b9-0294-4ffa-8907-d71ffb8b9ef5",
   "metadata": {},
   "outputs": [],
   "source": [
    "import torch\n",
    "from torchvision import transforms\n",
    "\n",
    "tensor_image = torch.randn((3,224,224))\n",
    "transformed_image = transforms.ToPILImage()(tensor_image)\n",
    "\n",
    "save_path = r'C:\\Users\\admin\\Desktop\\168366.jpg'\n",
    "transformed_image.save(save_path)"
   ]
  },
  {
   "cell_type": "code",
   "execution_count": null,
   "id": "f532449c-0cc2-4601-a8a2-f59171d0619d",
   "metadata": {},
   "outputs": [],
   "source": []
  }
 ],
 "metadata": {
  "kernelspec": {
   "display_name": "Python 3 (ipykernel)",
   "language": "python",
   "name": "python3"
  },
  "language_info": {
   "codemirror_mode": {
    "name": "ipython",
    "version": 3
   },
   "file_extension": ".py",
   "mimetype": "text/x-python",
   "name": "python",
   "nbconvert_exporter": "python",
   "pygments_lexer": "ipython3",
   "version": "3.9.7"
  }
 },
 "nbformat": 4,
 "nbformat_minor": 5
}
