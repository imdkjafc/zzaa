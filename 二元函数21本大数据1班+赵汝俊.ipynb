{
 "cells": [
  {
   "cell_type": "code",
   "execution_count": null,
   "id": "91cd2921",
   "metadata": {},
   "outputs": [],
   "source": []
  },
  {
   "cell_type": "code",
   "execution_count": 7,
   "id": "6cf7d9b3",
   "metadata": {},
   "outputs": [
    {
     "name": "stdout",
     "output_type": "stream",
     "text": [
      "近似最小值点: (-0.9999999999999993, 0.9999999999999993)\n",
      "函数在该点的值: 3.549874073494553e-30\n"
     ]
    }
   ],
   "source": [
    "import numpy as np\n",
    "\n",
    "\n",
    "def f(x, y):\n",
    "    return (x ** 2 - 1) ** 2 + (y ** 2 - 1) ** 2\n",
    "\n",
    "def partial_derivative_x(x, y):\n",
    "    return 4 * x * (x ** 2 - 1)\n",
    "\n",
    "def partial_derivative_y(x, y):\n",
    "    return 4 * y * (y ** 2 - 1)\n",
    "\n",
    "\n",
    "def gradient_descent(learning_rate, num_iterations):\n",
    "    x = np.random.randn()  \n",
    "    y = np.random.randn()  \n",
    "    loss_history = [] \n",
    "\n",
    "    for i in range(num_iterations):\n",
    "        grad_x = partial_derivative_x(x, y)\n",
    "        grad_y = partial_derivative_y(x, y)\n",
    "\n",
    "        x -= learning_rate * grad_x\n",
    "        y -= learning_rate * grad_y\n",
    "\n",
    "        loss_history.append(f(x, y))  \n",
    "\n",
    "    return x, y, loss_history  \n",
    "\n",
    "learning_rate = 0.01\n",
    "num_iterations = 1000\n",
    "\n",
    "min_x, min_y, loss_history = gradient_descent(learning_rate, num_iterations)\n",
    "\n",
    "print(\"近似最小值点: ({}, {})\".format(min_x, min_y))\n",
    "print(\"函数在该点的值: {}\".format(f(min_x, min_y)))\n"
   ]
  },
  {
   "cell_type": "code",
   "execution_count": null,
   "id": "5230458a",
   "metadata": {},
   "outputs": [],
   "source": []
  }
 ],
 "metadata": {
  "kernelspec": {
   "display_name": "Python 3",
   "language": "python",
   "name": "python3"
  },
  "language_info": {
   "codemirror_mode": {
    "name": "ipython",
    "version": 3
   },
   "file_extension": ".py",
   "mimetype": "text/x-python",
   "name": "python",
   "nbconvert_exporter": "python",
   "pygments_lexer": "ipython3",
   "version": "3.8.8"
  }
 },
 "nbformat": 4,
 "nbformat_minor": 5
}
